{
 "cells": [
  {
   "cell_type": "markdown",
   "id": "fad1e01e",
   "metadata": {},
   "source": [
    "# C O N S E R V A T I V E - Q - L E A R N I N G - C Q L "
   ]
  },
  {
   "cell_type": "code",
   "execution_count": 1,
   "id": "2e22f6f9",
   "metadata": {},
   "outputs": [],
   "source": [
    "import torch\n",
    "torch.set_float32_matmul_precision('highest')\n",
    "import torch.nn as nn\n",
    "import torch.nn.functional as F\n",
    "import torch.optim as optim\n",
    "from torch.utils.data import DataLoader, Dataset\n",
    "\n",
    "import h5py\n",
    "import numpy as np\n",
    "\n",
    "import matplotlib.pyplot as plt\n",
    "import tqdm\n",
    "\n",
    "import copy\n",
    "\n",
    "from torch.utils.tensorboard import SummaryWriter\n",
    "from sklearn.model_selection import train_test_split\n"
   ]
  },
  {
   "cell_type": "markdown",
   "id": "677eb888",
   "metadata": {},
   "source": [
    "### L O G G I N G"
   ]
  },
  {
   "cell_type": "code",
   "execution_count": 2,
   "id": "0f3add78",
   "metadata": {},
   "outputs": [],
   "source": [
    "writer = SummaryWriter(log_dir = './runs/CQL')\n"
   ]
  },
  {
   "cell_type": "markdown",
   "id": "c744672d",
   "metadata": {},
   "source": [
    "### D E V I C E"
   ]
  },
  {
   "cell_type": "code",
   "execution_count": 3,
   "id": "b1f1af90",
   "metadata": {},
   "outputs": [
    {
     "name": "stdout",
     "output_type": "stream",
     "text": [
      "Device: cuda\n"
     ]
    }
   ],
   "source": [
    "device = torch.device('cuda' if torch.cuda.is_available() else 'cpu')\n",
    "print(f'Device: {device}')\n"
   ]
  },
  {
   "cell_type": "markdown",
   "id": "b37df175",
   "metadata": {},
   "source": [
    "### D A T A "
   ]
  },
  {
   "cell_type": "code",
   "execution_count": 4,
   "id": "51266c7d",
   "metadata": {},
   "outputs": [
    {
     "name": "stdout",
     "output_type": "stream",
     "text": [
      "Len of data: 1000000\n",
      "state dim: 11 | action dim: 3 | max action: 0.9999945163726807\n"
     ]
    }
   ],
   "source": [
    "file = \"C:\\OFFLINE RL\\hopper_medium-v2.hdf5\"\n",
    "\n",
    "with h5py.File(file, mode = 'r') as f:\n",
    "    \n",
    "    observations = np.array(f['observations'])\n",
    "    actions = np.array(f['actions'])\n",
    "    rewards = np.array(f['rewards'])\n",
    "    next_obs = np.array(f['next_observations'])\n",
    "    terminals = np.array(f['terminals'])\n",
    "    timeout = np.array(f['timeouts'])\n",
    "    \n",
    "state_dim = observations.shape[1]\n",
    "action_dim = actions.shape[1]\n",
    "max_action = abs(actions).max()    \n",
    "    \n",
    "print(f'Len of data: {len(observations)}')\n",
    "print(f'state dim: {state_dim} | action dim: {action_dim} | max action: {max_action}')\n"
   ]
  },
  {
   "cell_type": "markdown",
   "id": "b67ef2da",
   "metadata": {},
   "source": [
    "### D A T A - F E A T U R I N G"
   ]
  },
  {
   "cell_type": "code",
   "execution_count": 5,
   "id": "9a88fef3",
   "metadata": {},
   "outputs": [],
   "source": [
    "obs_ten = torch.from_numpy(observations).float().to(device)\n",
    "act_ten = torch.from_numpy(actions).float().to(device)\n",
    "rew_ten = torch.from_numpy(rewards).float().to(device)\n",
    "next_obs_ten = torch.from_numpy(next_obs).float().to(device)\n",
    "\n",
    "don = terminals | timeout\n",
    "don_ten = torch.from_numpy(don).float().to(device)\n",
    "\n",
    "\n",
    "\n",
    "class Hopper_Dataset(Dataset):\n",
    "    \n",
    "    def __init__(self, obs = obs_ten, act = act_ten, rew = rew_ten, don = don_ten, next_obs = next_obs_ten):\n",
    "        \n",
    "        self.states = obs\n",
    "        self.actions = act\n",
    "        self.rewards = rew\n",
    "        self.next_states = next_obs\n",
    "        self.dones = don\n",
    "        \n",
    "    def __len__(self):\n",
    "        \n",
    "        return len(self.states)\n",
    "    \n",
    "    def __getitem__(self, index):\n",
    "        \n",
    "        return self.states[index], self.actions[index], self.rewards[index], self.next_states[index], self.dones[index]\n",
    "    \n",
    "dataset = Hopper_Dataset()\n",
    "\n",
    "train_data, test_data = train_test_split(dataset, test_size = 0.1, shuffle = False)\n",
    "\n",
    "train_loader, test_loader = DataLoader(train_data, batch_size = 256, shuffle = True, drop_last = True), DataLoader(test_data, batch_size = 256, shuffle = True, drop_last = True)\n"
   ]
  },
  {
   "cell_type": "markdown",
   "id": "a26da25c",
   "metadata": {},
   "source": [
    "### A S S E M B L Y"
   ]
  },
  {
   "cell_type": "code",
   "execution_count": 6,
   "id": "e1276167",
   "metadata": {},
   "outputs": [],
   "source": [
    "head_1 = 128\n",
    "head_2 = 256\n",
    "head_3 = 256\n",
    "head_4 = 128\n",
    "\n",
    "hidden_size = 128\n",
    "hidden_size_2 = 256\n"
   ]
  },
  {
   "cell_type": "markdown",
   "id": "70baa0ca",
   "metadata": {},
   "source": [
    "### F E A T U R E "
   ]
  },
  {
   "cell_type": "code",
   "execution_count": 7,
   "id": "14af7903",
   "metadata": {},
   "outputs": [],
   "source": [
    "class Feature_Extractor(nn.Module):\n",
    "    \n",
    "    def __init__(self, input_dim, output_dim, hidden_size = hidden_size, hidden_size_2 = hidden_size_2):\n",
    "        super(Feature_Extractor, self).__init__()\n",
    "        \n",
    "        self.extract = nn.Sequential(\n",
    "            \n",
    "            nn.Linear(input_dim, hidden_size),\n",
    "            nn.SiLU(),\n",
    "            \n",
    "            nn.Linear(hidden_size, hidden_size_2),\n",
    "            nn.SiLU(),\n",
    "            \n",
    "            nn.LayerNorm(hidden_size_2),\n",
    "            nn.Linear(hidden_size_2, hidden_size),\n",
    "            nn.SiLU(),\n",
    "            \n",
    "            nn.Linear(hidden_size, output_dim),\n",
    "            nn.SiLU()\n",
    "        )\n",
    "        \n",
    "    def forward(self, x):\n",
    "        \n",
    "        return self.extract(x)\n"
   ]
  },
  {
   "cell_type": "markdown",
   "id": "3d99c1c2",
   "metadata": {},
   "source": [
    "### P O L I C Y"
   ]
  },
  {
   "cell_type": "code",
   "execution_count": 8,
   "id": "c2f00963",
   "metadata": {},
   "outputs": [],
   "source": [
    "class policy_net(nn.Module):\n",
    "    \n",
    "    def __init__(self, state_dim = state_dim, action_dim = action_dim, max_action = max_action, head_1 = head_1, head_2 = head_2, head_3 = head_3, head_4 = head_4):\n",
    "        super(policy_net, self).__init__()\n",
    "        \n",
    "        # feature\n",
    "        \n",
    "        self.feature = Feature_Extractor(state_dim, head_1)\n",
    "        \n",
    "        # norm \n",
    "        \n",
    "        self.norm = nn.LayerNorm(head_1)\n",
    "        \n",
    "        # process\n",
    "        \n",
    "        self.process = nn.Sequential(\n",
    "            \n",
    "            nn.Linear(head_1, head_2),\n",
    "            nn.SiLU(),\n",
    "            \n",
    "            nn.Linear(head_2, head_3),\n",
    "            nn.SiLU(),\n",
    "            \n",
    "            nn.Linear(head_3, head_4),\n",
    "            nn.SiLU()\n",
    "        )\n",
    "        \n",
    "        # mu head\n",
    "        \n",
    "        self.mu = nn.Linear(head_4, action_dim)\n",
    "        \n",
    "        # max action\n",
    "        \n",
    "        self.max_action = max_action\n",
    "                \n",
    "    def forward(self, state):\n",
    "        \n",
    "        # feature\n",
    "        \n",
    "        feature = self.feature(state)\n",
    "        \n",
    "        # norm\n",
    "        \n",
    "        norm = self.norm(feature)\n",
    "\n",
    "        # process\n",
    "        \n",
    "        process = self.process(norm)\n",
    "        \n",
    "        # mu head\n",
    "        \n",
    "        mu = self.mu(process)\n",
    "        \n",
    "        tanh_mu = torch.tanh(mu)\n",
    "               \n",
    "        action = tanh_mu * self.max_action\n",
    "        \n",
    "        return action \n",
    "        "
   ]
  },
  {
   "cell_type": "markdown",
   "id": "c730477d",
   "metadata": {},
   "source": [
    "### Q NETWORK\n"
   ]
  },
  {
   "cell_type": "code",
   "execution_count": 9,
   "id": "312fae3b",
   "metadata": {},
   "outputs": [],
   "source": [
    "class q_net(nn.Module):\n",
    "    \n",
    "    def __init__(self, state_dim = state_dim, action_dim = action_dim, head_1 = head_1, head_2 = head_2, head_3 = head_3, head_4 = head_4):\n",
    "        super(q_net, self).__init__()\n",
    "        \n",
    "        # q vals 1 \n",
    "        \n",
    "        self.q_1 = nn.Sequential(\n",
    "            \n",
    "            nn.Linear(state_dim + action_dim, head_1),\n",
    "            nn.SiLU(),\n",
    "            \n",
    "            nn.Linear(head_1, head_2),\n",
    "            nn.SiLU(),\n",
    "            \n",
    "            nn.LayerNorm(head_2),\n",
    "            nn.Linear(head_2, head_3),\n",
    "            nn.SiLU(),\n",
    "            \n",
    "            nn.Linear(head_3, head_4),\n",
    "            nn.SiLU(),\n",
    "            \n",
    "            nn.Linear(head_4, 1)\n",
    "        )\n",
    "        \n",
    "        # q vals 2\n",
    "        \n",
    "        self.q_2 = nn.Sequential(\n",
    "            \n",
    "            nn.Linear(state_dim + action_dim, head_1),\n",
    "            nn.SiLU(),\n",
    "            \n",
    "            nn.Linear(head_1, head_2),\n",
    "            nn.SiLU(),\n",
    "            \n",
    "            nn.LayerNorm(head_2),\n",
    "            nn.Linear(head_2, head_3),\n",
    "            nn.SiLU(),\n",
    "            \n",
    "            nn.Linear(head_3, head_4),\n",
    "            nn.SiLU(),\n",
    "            \n",
    "            nn.Linear(head_4, 1)\n",
    "        )\n",
    "        \n",
    "    def forward(self, state, action):\n",
    "        \n",
    "        # cat\n",
    "        \n",
    "        cat = torch.cat([state, action], dim = -1)\n",
    "        \n",
    "        q1 = self.q_1(cat)\n",
    "        q2 = self.q_2(cat)\n",
    "        \n",
    "        return q1, q2\n"
   ]
  },
  {
   "cell_type": "markdown",
   "id": "87b5b021",
   "metadata": {},
   "source": [
    "### S E T U P "
   ]
  },
  {
   "cell_type": "code",
   "execution_count": 10,
   "id": "fc725950",
   "metadata": {},
   "outputs": [
    {
     "name": "stdout",
     "output_type": "stream",
     "text": [
      "policy_net(\n",
      "  (feature): Feature_Extractor(\n",
      "    (extract): Sequential(\n",
      "      (0): Linear(in_features=11, out_features=128, bias=True)\n",
      "      (1): SiLU()\n",
      "      (2): Linear(in_features=128, out_features=256, bias=True)\n",
      "      (3): SiLU()\n",
      "      (4): LayerNorm((256,), eps=1e-05, elementwise_affine=True)\n",
      "      (5): Linear(in_features=256, out_features=128, bias=True)\n",
      "      (6): SiLU()\n",
      "      (7): Linear(in_features=128, out_features=128, bias=True)\n",
      "      (8): SiLU()\n",
      "    )\n",
      "  )\n",
      "  (norm): LayerNorm((128,), eps=1e-05, elementwise_affine=True)\n",
      "  (process): Sequential(\n",
      "    (0): Linear(in_features=128, out_features=256, bias=True)\n",
      "    (1): SiLU()\n",
      "    (2): Linear(in_features=256, out_features=256, bias=True)\n",
      "    (3): SiLU()\n",
      "    (4): Linear(in_features=256, out_features=128, bias=True)\n",
      "    (5): SiLU()\n",
      "  )\n",
      "  (mu): Linear(in_features=128, out_features=3, bias=True)\n",
      ")\n",
      "----------------------------------------------------------------------------------------------------\n",
      "q_net(\n",
      "  (q_1): Sequential(\n",
      "    (0): Linear(in_features=14, out_features=128, bias=True)\n",
      "    (1): SiLU()\n",
      "    (2): Linear(in_features=128, out_features=256, bias=True)\n",
      "    (3): SiLU()\n",
      "    (4): LayerNorm((256,), eps=1e-05, elementwise_affine=True)\n",
      "    (5): Linear(in_features=256, out_features=256, bias=True)\n",
      "    (6): SiLU()\n",
      "    (7): Linear(in_features=256, out_features=128, bias=True)\n",
      "    (8): SiLU()\n",
      "    (9): Linear(in_features=128, out_features=1, bias=True)\n",
      "  )\n",
      "  (q_2): Sequential(\n",
      "    (0): Linear(in_features=14, out_features=128, bias=True)\n",
      "    (1): SiLU()\n",
      "    (2): Linear(in_features=128, out_features=256, bias=True)\n",
      "    (3): SiLU()\n",
      "    (4): LayerNorm((256,), eps=1e-05, elementwise_affine=True)\n",
      "    (5): Linear(in_features=256, out_features=256, bias=True)\n",
      "    (6): SiLU()\n",
      "    (7): Linear(in_features=256, out_features=128, bias=True)\n",
      "    (8): SiLU()\n",
      "    (9): Linear(in_features=128, out_features=1, bias=True)\n",
      "  )\n",
      ")\n"
     ]
    }
   ],
   "source": [
    "# Policy\n",
    "\n",
    "POLICY_NETWORK = policy_net().to(device)\n",
    "\n",
    "print(POLICY_NETWORK)\n",
    "print('-' * 100)\n",
    "\n",
    "# Q network\n",
    "\n",
    "Q_NETWORK = q_net().to(device)\n",
    "\n",
    "print(Q_NETWORK)\n",
    "\n",
    "# target policy\n",
    "\n",
    "TARGET_POLICY = copy.deepcopy(POLICY_NETWORK).to(device)\n",
    "\n",
    "# target q\n",
    "\n",
    "TARGET_Q_NET = copy.deepcopy(Q_NETWORK).to(device)\n"
   ]
  },
  {
   "cell_type": "markdown",
   "id": "33349a4c",
   "metadata": {},
   "source": [
    "### O P T I M I Z E R - S C H E D U L E R "
   ]
  },
  {
   "cell_type": "code",
   "execution_count": 11,
   "id": "9c1942a8",
   "metadata": {},
   "outputs": [],
   "source": [
    "# lr\n",
    "\n",
    "policy_lr = 1e-4\n",
    "q_lr = 1e-4\n",
    "\n",
    "T_max = 30\n",
    "\n",
    "policy_optimizer = optim.AdamW(POLICY_NETWORK.parameters(), policy_lr, weight_decay = 0)\n",
    "policy_scheduler = optim.lr_scheduler.CosineAnnealingLR(policy_optimizer, T_max, eta_min = 1e-6)\n",
    "\n",
    "q_optimizer = optim.AdamW(Q_NETWORK.parameters(), q_lr, weight_decay = 0)\n",
    "q_scheduler = optim.lr_scheduler.CosineAnnealingLR(q_optimizer, T_max, eta_min = 1e-6)\n"
   ]
  },
  {
   "cell_type": "markdown",
   "id": "b8184940",
   "metadata": {},
   "source": [
    "### L O S S - F U N C\n"
   ]
  },
  {
   "cell_type": "code",
   "execution_count": 12,
   "id": "63d3ce04",
   "metadata": {},
   "outputs": [],
   "source": [
    "class loss_func:\n",
    "    \n",
    "    def __init__(self, gamma, tau, alpha, policy_noise, noise_clip, delay, POLICY_NETWORK = POLICY_NETWORK, Q_NETWORK = Q_NETWORK, TARGET_POLICY = TARGET_POLICY, TARGET_Q_NET = TARGET_Q_NET, policy_optimizer = policy_optimizer, policy_scheduler = policy_scheduler, q_optimizer = q_optimizer, q_scheduler = q_scheduler, max_action = max_action):\n",
    "        \n",
    "        # network\n",
    "        \n",
    "        self.policy = POLICY_NETWORK\n",
    "        self.q_network = Q_NETWORK\n",
    "        self.target_policy = TARGET_POLICY\n",
    "        self.target_q_network = TARGET_Q_NET\n",
    "        \n",
    "        # hyper param\n",
    "        \n",
    "        self.gamma = gamma\n",
    "        self.tau = tau\n",
    "        self.alpha = alpha\n",
    "        self.policy_noise = policy_noise\n",
    "        self.noise_clip = noise_clip\n",
    "        self.max_action = max_action\n",
    "        self.delay = delay\n",
    "        \n",
    "        # optimizer and scheduler\n",
    "        \n",
    "        self.policy_optimizer = policy_optimizer\n",
    "        self.policy_scheduler = policy_scheduler\n",
    "        self.q_optimizer = q_optimizer\n",
    "        self.q_scheduler = q_scheduler\n",
    "        \n",
    "    def soft_update(self, source, target):\n",
    "        \n",
    "        with torch.no_grad():\n",
    "            \n",
    "            for param, target_param in zip(source.parameters(), target.parameters()):\n",
    "                \n",
    "                target_param.data.copy_(param.data * self.tau + target_param.data * (1 - self.tau))\n",
    "                \n",
    "    def critic_loss(self, states, actions, rewards, dones, next_states):\n",
    "        \n",
    "        # cal bootstrapped target\n",
    "        \n",
    "        with torch.no_grad():\n",
    "            \n",
    "            noise = (torch.randn_like(actions) * self.policy_noise).clip(-self.noise_clip, self.noise_clip)\n",
    "            \n",
    "            next_actions = (self.target_policy(next_states) + noise).clip(-self.max_action, self.max_action)\n",
    "            \n",
    "            target_1, target_2 = self.target_q_network(next_states, next_actions)\n",
    "            target = torch.min(target_1, target_2)\n",
    "            target_vals = rewards + self.gamma * (1 - dones) * target\n",
    "            \n",
    "        # cal current vals\n",
    "        \n",
    "        q1, q2 = self.q_network(states, actions)\n",
    "        loss_1 = F.mse_loss(q1, target_vals) + F.mse_loss(q2, target_vals)\n",
    "        \n",
    "        \n",
    "        # cal second loss\n",
    "        \n",
    "        policy_actions = self.policy(states)\n",
    "        q1_pi, q2_pi = self.q_network(states, policy_actions)\n",
    "        \n",
    "        loss_2 = self.alpha * ((q1_pi.mean() + q2_pi.mean()) / 2 - (q1.mean() + q2.mean()) / 2)\n",
    "        \n",
    "        q_loss = loss_1 + loss_2\n",
    "         \n",
    "        return q_loss   \n",
    "    \n",
    "    def policy_loss(self, states):\n",
    "        \n",
    "        policy_actions = self.policy(states)\n",
    "        \n",
    "        q1, _ = self.q_network(states, policy_actions)\n",
    "        \n",
    "        policy_loss = - q1.mean()\n",
    "            \n",
    "        return policy_loss\n",
    "        \n",
    "    def update(self, data_loader):\n",
    "        \n",
    "        running_policy_loss = 0.0\n",
    "        running_q_loss = 0.0\n",
    "        step = 0\n",
    "        \n",
    "        for states, actions, rewards, next_states, dones in data_loader:\n",
    "            \n",
    "            if rewards.dim() ==1: rewards = rewards.unsqueeze(1)\n",
    "            if dones.dim() == 1: dones = dones.unsqueeze(1)\n",
    "            \n",
    "            # critic loss\n",
    "            \n",
    "            q_loss = self.critic_loss(states, actions, rewards, dones, next_states)\n",
    "            \n",
    "            self.q_optimizer.zero_grad()\n",
    "            q_loss.backward()\n",
    "            torch.nn.utils.clip_grad_norm_(self.q_network.parameters(), max_norm = 0.5)\n",
    "            self.q_optimizer.step()\n",
    "            self.q_scheduler.step()\n",
    "            \n",
    "            running_q_loss += q_loss.item()\n",
    "            \n",
    "            # policy loss\n",
    "            \n",
    "            if step % self.delay == 0:\n",
    "                \n",
    "                policy_loss = self.policy_loss(states)\n",
    "                \n",
    "                self.policy_optimizer.zero_grad()\n",
    "                policy_loss.backward()\n",
    "                torch.nn.utils.clip_grad_norm_(self.policy.parameters(), max_norm= 0.5)\n",
    "                self.policy_optimizer.step()\n",
    "                self.policy_scheduler.step()\n",
    "                \n",
    "                running_policy_loss += policy_loss.item()\n",
    "            \n",
    "            self.soft_update(self.q_network, self.target_q_network)\n",
    "            self.soft_update(self.policy, self.target_policy)\n",
    "            \n",
    "            step += 1\n",
    "            \n",
    "        avg_policy_loss = running_policy_loss / max(1, (step // self.delay))\n",
    "        avg_q_loss = running_q_loss / step\n",
    "        \n",
    "        return avg_policy_loss, avg_q_loss\n"
   ]
  },
  {
   "cell_type": "markdown",
   "id": "ca3210ee",
   "metadata": {},
   "source": [
    "### S E T U P "
   ]
  },
  {
   "cell_type": "code",
   "execution_count": 13,
   "id": "717a258a",
   "metadata": {},
   "outputs": [],
   "source": [
    "# hyper params\n",
    "\n",
    "gamma = 0.97\n",
    "alpha = 1.0\n",
    "tau = 0.005\n",
    "noise_clip = 0.3\n",
    "policy_noise = 0.2\n",
    "delay = 2\n",
    "\n",
    "LOSS_FUNCTION = loss_func(gamma, tau, alpha, policy_noise, noise_clip, delay)\n"
   ]
  },
  {
   "cell_type": "markdown",
   "id": "e05add00",
   "metadata": {},
   "source": [
    "### T R A I N I N G\n"
   ]
  },
  {
   "cell_type": "code",
   "execution_count": null,
   "id": "8f9f4567",
   "metadata": {},
   "outputs": [
    {
     "name": "stderr",
     "output_type": "stream",
     "text": [
      "CQL TRAINING:   3%|▎         | 1/30 [01:43<49:57, 103.37s/it]"
     ]
    },
    {
     "name": "stdout",
     "output_type": "stream",
     "text": [
      "Epoch: 0 | policy loss: -22.0875 | Q loss: 1.7166\n"
     ]
    },
    {
     "name": "stderr",
     "output_type": "stream",
     "text": [
      "CQL TRAINING:   7%|▋         | 2/30 [03:34<50:25, 108.06s/it]"
     ]
    },
    {
     "name": "stdout",
     "output_type": "stream",
     "text": [
      "Epoch: 1 | policy loss: -55.2672 | Q loss: 3.2478\n"
     ]
    },
    {
     "name": "stderr",
     "output_type": "stream",
     "text": [
      "CQL TRAINING:  10%|█         | 3/30 [05:27<49:35, 110.22s/it]"
     ]
    },
    {
     "name": "stdout",
     "output_type": "stream",
     "text": [
      "Epoch: 2 | policy loss: -76.3391 | Q loss: 3.6661\n"
     ]
    },
    {
     "name": "stderr",
     "output_type": "stream",
     "text": [
      "CQL TRAINING:  13%|█▎        | 4/30 [06:51<43:20, 100.00s/it]"
     ]
    },
    {
     "name": "stdout",
     "output_type": "stream",
     "text": [
      "Epoch: 3 | policy loss: -89.4041 | Q loss: 4.2573\n"
     ]
    },
    {
     "name": "stderr",
     "output_type": "stream",
     "text": [
      "CQL TRAINING:  17%|█▋        | 5/30 [08:11<38:40, 92.80s/it] "
     ]
    },
    {
     "name": "stdout",
     "output_type": "stream",
     "text": [
      "Epoch: 4 | policy loss: -97.4667 | Q loss: 5.0218\n"
     ]
    },
    {
     "name": "stderr",
     "output_type": "stream",
     "text": [
      "CQL TRAINING:  20%|██        | 6/30 [09:29<35:02, 87.62s/it]"
     ]
    },
    {
     "name": "stdout",
     "output_type": "stream",
     "text": [
      "Epoch: 5 | policy loss: -102.1135 | Q loss: 5.0253\n"
     ]
    },
    {
     "name": "stderr",
     "output_type": "stream",
     "text": [
      "CQL TRAINING:  23%|██▎       | 7/30 [11:02<34:19, 89.52s/it]"
     ]
    },
    {
     "name": "stdout",
     "output_type": "stream",
     "text": [
      "Epoch: 6 | policy loss: -105.1376 | Q loss: 4.8628\n"
     ]
    },
    {
     "name": "stderr",
     "output_type": "stream",
     "text": [
      "CQL TRAINING:  27%|██▋       | 8/30 [12:24<31:56, 87.09s/it]"
     ]
    },
    {
     "name": "stdout",
     "output_type": "stream",
     "text": [
      "Epoch: 7 | policy loss: -105.8774 | Q loss: 4.0765\n"
     ]
    },
    {
     "name": "stderr",
     "output_type": "stream",
     "text": [
      "CQL TRAINING:  30%|███       | 9/30 [13:47<30:00, 85.74s/it]"
     ]
    },
    {
     "name": "stdout",
     "output_type": "stream",
     "text": [
      "Epoch: 8 | policy loss: -105.8180 | Q loss: 3.2997\n"
     ]
    },
    {
     "name": "stderr",
     "output_type": "stream",
     "text": [
      "CQL TRAINING:  33%|███▎      | 10/30 [15:12<28:29, 85.49s/it]"
     ]
    },
    {
     "name": "stdout",
     "output_type": "stream",
     "text": [
      "Epoch: 9 | policy loss: -105.7082 | Q loss: 3.1404\n"
     ]
    },
    {
     "name": "stderr",
     "output_type": "stream",
     "text": [
      "CQL TRAINING:  37%|███▋      | 11/30 [16:33<26:40, 84.26s/it]"
     ]
    },
    {
     "name": "stdout",
     "output_type": "stream",
     "text": [
      "Epoch: 10 | policy loss: -105.5615 | Q loss: 2.6573\n"
     ]
    },
    {
     "name": "stderr",
     "output_type": "stream",
     "text": [
      "CQL TRAINING:  40%|████      | 12/30 [18:03<25:46, 85.92s/it]"
     ]
    },
    {
     "name": "stdout",
     "output_type": "stream",
     "text": [
      "Epoch: 11 | policy loss: -104.7832 | Q loss: 2.2938\n"
     ]
    },
    {
     "name": "stderr",
     "output_type": "stream",
     "text": [
      "CQL TRAINING:  43%|████▎     | 13/30 [19:39<25:13, 89.02s/it]"
     ]
    },
    {
     "name": "stdout",
     "output_type": "stream",
     "text": [
      "Epoch: 12 | policy loss: -103.8980 | Q loss: 2.1073\n"
     ]
    },
    {
     "name": "stderr",
     "output_type": "stream",
     "text": [
      "CQL TRAINING:  47%|████▋     | 14/30 [21:01<23:06, 86.67s/it]"
     ]
    },
    {
     "name": "stdout",
     "output_type": "stream",
     "text": [
      "Epoch: 13 | policy loss: -103.1665 | Q loss: 1.9794\n"
     ]
    },
    {
     "name": "stderr",
     "output_type": "stream",
     "text": [
      "CQL TRAINING:  50%|█████     | 15/30 [22:51<23:28, 93.91s/it]"
     ]
    },
    {
     "name": "stdout",
     "output_type": "stream",
     "text": [
      "Epoch: 14 | policy loss: -102.6066 | Q loss: 1.8303\n"
     ]
    },
    {
     "name": "stderr",
     "output_type": "stream",
     "text": [
      "CQL TRAINING:  53%|█████▎    | 16/30 [24:37<22:44, 97.48s/it]"
     ]
    },
    {
     "name": "stdout",
     "output_type": "stream",
     "text": [
      "Epoch: 15 | policy loss: -102.1691 | Q loss: 1.6722\n"
     ]
    },
    {
     "name": "stderr",
     "output_type": "stream",
     "text": [
      "CQL TRAINING:  57%|█████▋    | 17/30 [26:00<20:09, 93.02s/it]"
     ]
    },
    {
     "name": "stdout",
     "output_type": "stream",
     "text": [
      "Epoch: 16 | policy loss: -101.6238 | Q loss: 1.5393\n"
     ]
    },
    {
     "name": "stderr",
     "output_type": "stream",
     "text": [
      "CQL TRAINING:  60%|██████    | 18/30 [27:28<18:19, 91.59s/it]"
     ]
    },
    {
     "name": "stdout",
     "output_type": "stream",
     "text": [
      "Epoch: 17 | policy loss: -101.1532 | Q loss: 1.4763\n"
     ]
    },
    {
     "name": "stderr",
     "output_type": "stream",
     "text": [
      "CQL TRAINING:  63%|██████▎   | 19/30 [29:24<18:08, 98.99s/it]"
     ]
    },
    {
     "name": "stdout",
     "output_type": "stream",
     "text": [
      "Epoch: 18 | policy loss: -100.6994 | Q loss: 1.4203\n"
     ]
    },
    {
     "name": "stderr",
     "output_type": "stream",
     "text": [
      "CQL TRAINING:  67%|██████▋   | 20/30 [30:55<16:05, 96.58s/it]"
     ]
    },
    {
     "name": "stdout",
     "output_type": "stream",
     "text": [
      "Epoch: 19 | policy loss: -100.4293 | Q loss: 1.4032\n"
     ]
    },
    {
     "name": "stderr",
     "output_type": "stream",
     "text": [
      "CQL TRAINING:  70%|███████   | 21/30 [32:32<14:28, 96.54s/it]"
     ]
    },
    {
     "name": "stdout",
     "output_type": "stream",
     "text": [
      "Epoch: 20 | policy loss: -100.3091 | Q loss: 1.3442\n"
     ]
    },
    {
     "name": "stderr",
     "output_type": "stream",
     "text": [
      "CQL TRAINING:  73%|███████▎  | 22/30 [34:03<12:40, 95.03s/it]"
     ]
    },
    {
     "name": "stdout",
     "output_type": "stream",
     "text": [
      "Epoch: 21 | policy loss: -100.2005 | Q loss: 1.3174\n"
     ]
    },
    {
     "name": "stderr",
     "output_type": "stream",
     "text": [
      "CQL TRAINING:  77%|███████▋  | 23/30 [35:33<10:54, 93.51s/it]"
     ]
    },
    {
     "name": "stdout",
     "output_type": "stream",
     "text": [
      "Epoch: 22 | policy loss: -100.0654 | Q loss: 1.2794\n"
     ]
    },
    {
     "name": "stderr",
     "output_type": "stream",
     "text": [
      "CQL TRAINING:  80%|████████  | 24/30 [37:04<09:15, 92.64s/it]"
     ]
    },
    {
     "name": "stdout",
     "output_type": "stream",
     "text": [
      "Epoch: 23 | policy loss: -99.8590 | Q loss: 1.2578\n"
     ]
    },
    {
     "name": "stderr",
     "output_type": "stream",
     "text": [
      "CQL TRAINING:  83%|████████▎ | 25/30 [38:43<07:53, 94.70s/it]"
     ]
    },
    {
     "name": "stdout",
     "output_type": "stream",
     "text": [
      "Epoch: 24 | policy loss: -99.7938 | Q loss: 1.1976\n"
     ]
    },
    {
     "name": "stderr",
     "output_type": "stream",
     "text": [
      "CQL TRAINING:  87%|████████▋ | 26/30 [40:14<06:14, 93.66s/it]"
     ]
    },
    {
     "name": "stdout",
     "output_type": "stream",
     "text": [
      "Epoch: 25 | policy loss: -99.7237 | Q loss: 1.1684\n"
     ]
    },
    {
     "name": "stderr",
     "output_type": "stream",
     "text": [
      "CQL TRAINING:  90%|█████████ | 27/30 [41:44<04:37, 92.57s/it]"
     ]
    },
    {
     "name": "stdout",
     "output_type": "stream",
     "text": [
      "Epoch: 26 | policy loss: -99.5895 | Q loss: 1.1505\n"
     ]
    },
    {
     "name": "stderr",
     "output_type": "stream",
     "text": [
      "CQL TRAINING:  93%|█████████▎| 28/30 [43:25<03:10, 95.04s/it]"
     ]
    },
    {
     "name": "stdout",
     "output_type": "stream",
     "text": [
      "Epoch: 27 | policy loss: -99.5325 | Q loss: 1.1242\n"
     ]
    },
    {
     "name": "stderr",
     "output_type": "stream",
     "text": [
      "CQL TRAINING:  97%|█████████▋| 29/30 [44:54<01:33, 93.09s/it]"
     ]
    },
    {
     "name": "stdout",
     "output_type": "stream",
     "text": [
      "Epoch: 28 | policy loss: -99.4746 | Q loss: 1.0991\n"
     ]
    },
    {
     "name": "stderr",
     "output_type": "stream",
     "text": [
      "CQL TRAINING: 100%|██████████| 30/30 [46:24<00:00, 92.83s/it]"
     ]
    },
    {
     "name": "stdout",
     "output_type": "stream",
     "text": [
      "Epoch: 29 | policy loss: -99.4771 | Q loss: 1.0770\n"
     ]
    },
    {
     "name": "stderr",
     "output_type": "stream",
     "text": [
      "\n"
     ]
    }
   ],
   "source": [
    "epochs = 30\n",
    "\n",
    "total_policy_loss = []\n",
    "total_q_loss = []\n",
    "best_q_loss = -np.inf\n",
    "\n",
    "for epoch in tqdm.tqdm(range(epochs), desc = 'CQL TRAINING'):\n",
    "    \n",
    "    avg_policy_loss, avg_q_loss = LOSS_FUNCTION.update(train_loader)\n",
    "    \n",
    "    writer.add_scalar('POLICY LOSS', avg_policy_loss, epoch)\n",
    "    writer.add_scalar('Q LOSS', avg_q_loss, epoch)\n",
    "    \n",
    "    total_policy_loss.append(avg_policy_loss)\n",
    "    total_q_loss.append(avg_q_loss)\n",
    "    \n",
    "    writer.flush()\n",
    "    \n",
    "    tqdm.tqdm.write(f'Epoch: {epoch} | policy loss: {avg_policy_loss:.4f} | Q loss: {avg_q_loss:.4f}')\n",
    "    \n"
   ]
  },
  {
   "cell_type": "markdown",
   "id": "429621d6",
   "metadata": {},
   "source": [
    "### P L O T S"
   ]
  },
  {
   "cell_type": "code",
   "execution_count": null,
   "id": "b3ca892e",
   "metadata": {},
   "outputs": [
    {
     "data": {
      "image/png": "[encoded data removed]",
      "text/plain": [
       "<Figure size 1000x600 with 1 Axes>"
      ]
     },
     "metadata": {},
     "output_type": "display_data"
    }
   ],
   "source": [
    "plot_length = range(len(total_policy_loss))\n",
    "\n",
    "plt.figure(figsize=(10, 6))\n",
    "\n",
    "plt.plot(plot_length, total_policy_loss, label='Policy Loss', color='red', linewidth=2)\n",
    "\n",
    "plt.xlabel('Epochs', fontsize=14)\n",
    "plt.ylabel('Loss', fontsize=14)\n",
    "plt.title('CQL Training Loss Curves', fontsize=16)\n",
    "plt.legend(fontsize=12)\n",
    "plt.grid(True, linestyle='--', alpha=0.6)\n",
    "\n",
    "plt.tight_layout()\n",
    "plt.savefig('CQL_loss_curves.png', dpi=300)  # Save as PNG\n",
    "plt.show()\n"
   ]
  },
  {
   "cell_type": "code",
   "execution_count": null,
   "id": "50dcf401",
   "metadata": {},
   "outputs": [
    {
     "data": {
      "image/png": "[encoded data removed]",
      "text/plain": [
       "<Figure size 1000x600 with 1 Axes>"
      ]
     },
     "metadata": {},
     "output_type": "display_data"
    }
   ],
   "source": [
    "plt.figure(figsize=(10, 6))\n",
    "\n",
    "plt.plot(plot_length, total_q_loss, label='Q Loss', color='blue', linewidth=2)\n",
    "\n",
    "plt.xlabel('Epochs', fontsize=14)\n",
    "plt.ylabel('Loss', fontsize=14)\n",
    "plt.title('CQL Training Loss Curves', fontsize=16)\n",
    "plt.legend(fontsize=12)\n",
    "plt.grid(True, linestyle='--', alpha=0.6)\n",
    "\n",
    "plt.tight_layout()\n",
    "plt.savefig('CQL_loss_curves.png', dpi=300)  # Save as PNG\n",
    "plt.show()\n"
   ]
  }
 ],
 "metadata": {
  "kernelspec": {
   "display_name": "Python 3",
   "language": "python",
   "name": "python3"
  },
  "language_info": {
   "codemirror_mode": {
    "name": "ipython",
    "version": 3
   },
   "file_extension": ".py",
   "mimetype": "text/x-python",
   "name": "python",
   "nbconvert_exporter": "python",
   "pygments_lexer": "ipython3",
   "version": "3.11.5"
  }
 },
 "nbformat": 4,
 "nbformat_minor": 5
}
