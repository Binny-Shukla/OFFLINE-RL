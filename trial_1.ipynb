{
 "cells": [
  {
   "cell_type": "markdown",
   "id": "250b07c5",
   "metadata": {},
   "source": [
    "### T W I N - D E L A Y E D-3 + B C"
   ]
  },
  {
   "cell_type": "code",
   "execution_count": 1,
   "id": "d5d8d39f",
   "metadata": {},
   "outputs": [],
   "source": [
    "# IMPORTs\n",
    "\n",
    "import torch\n",
    "torch.set_float32_matmul_precision('highest')\n",
    "import torch.nn as nn\n",
    "import torch.nn.functional as F\n",
    "import torch.optim as optim\n",
    "\n",
    "from torch.utils.data import DataLoader, Dataset\n",
    "from sklearn.model_selection import train_test_split\n",
    "\n",
    "import matplotlib.pyplot as plt\n",
    "import h5py\n",
    "import numpy as np\n",
    "from torch.utils.tensorboard import SummaryWriter\n",
    "from tqdm import tqdm\n",
    "\n",
    "import copy\n"
   ]
  },
  {
   "cell_type": "markdown",
   "id": "99a52495",
   "metadata": {},
   "source": [
    "### D E V I C E "
   ]
  },
  {
   "cell_type": "code",
   "execution_count": 2,
   "id": "852fb891",
   "metadata": {},
   "outputs": [
    {
     "name": "stdout",
     "output_type": "stream",
     "text": [
      "Device: cuda\n"
     ]
    }
   ],
   "source": [
    "device = torch.device('cuda' if torch.cuda.is_available() else 'cpu')\n",
    "print(f'Device: {device}')\n"
   ]
  },
  {
   "cell_type": "code",
   "execution_count": 3,
   "id": "fe4edaeb",
   "metadata": {},
   "outputs": [],
   "source": [
    "writer = SummaryWriter(log_dir=\"./runs/td3_bc\")\n"
   ]
  },
  {
   "cell_type": "markdown",
   "id": "fbd4ca5d",
   "metadata": {},
   "source": [
    "### D A T A S E T "
   ]
  },
  {
   "cell_type": "code",
   "execution_count": 4,
   "id": "46ef0d67",
   "metadata": {},
   "outputs": [
    {
     "name": "stdout",
     "output_type": "stream",
     "text": [
      "Number of samples: 1000000\n",
      "state dim: 11 | action dim: 3 | max action: 0.9999945163726807\n"
     ]
    }
   ],
   "source": [
    "path = 'C:\\OFFLINE RL\\hopper_medium-v2.hdf5'\n",
    "\n",
    "with h5py.File(path, 'r') as f:\n",
    "    \n",
    "    observations = np.array(f['observations'])\n",
    "    next_obs = np.array(f['next_observations'])\n",
    "    actions = np.array(f['actions'])\n",
    "    rewards = np.array(f['rewards'])\n",
    "    terminals = np.array(f['terminals'])\n",
    "    timeouts = np.array(f['timeouts'])\n",
    "    \n",
    "state_dim = observations.shape[1]\n",
    "action_dim = actions.shape[1]\n",
    "max_action = np.abs(actions).max()\n",
    "\n",
    "print(f'Number of samples: {len(observations)}')\n",
    "print(f'state dim: {state_dim} | action dim: {action_dim} | max action: {max_action}')\n"
   ]
  },
  {
   "cell_type": "markdown",
   "id": "0be2e766",
   "metadata": {},
   "source": [
    "### S E T U P"
   ]
  },
  {
   "cell_type": "code",
   "execution_count": 5,
   "id": "be27d34b",
   "metadata": {},
   "outputs": [],
   "source": [
    "obs_tensor = torch.from_numpy(observations).float().to(device)\n",
    "act_tensor = torch.from_numpy(actions).float().to(device)\n",
    "rew_tensor = torch.from_numpy(rewards).float().to(device)\n",
    "next_obs_tensor = torch.from_numpy(next_obs).float().to(device)\n",
    "\n",
    "dones = terminals | timeouts\n",
    "don_tensor = torch.from_numpy(dones).float().to(device)\n",
    "\n",
    "batch_size = 256\n",
    "\n",
    "class Hopper_Dataset(Dataset):\n",
    "    \n",
    "    def __init__(self, obs, act, rew, dones, next_obs):\n",
    "        \n",
    "        self.observations = obs\n",
    "        self.actions = act\n",
    "        self.rewards = rew\n",
    "        self.dones = dones\n",
    "        self.next_obs = next_obs\n",
    "        \n",
    "    def __len__(self):\n",
    "        \n",
    "        return len(self.observations)\n",
    "    \n",
    "    def __getitem__(self, index):\n",
    "        \n",
    "        return  self.observations[index], self.actions[index], self.rewards[index],self.dones[index], self.next_obs[index]\n",
    "    \n",
    "\n",
    "dataset = Hopper_Dataset(obs_tensor, act_tensor, rew_tensor, don_tensor, next_obs_tensor)\n",
    "\n",
    "train_data, test_data = train_test_split(dataset, test_size = 0.2)\n",
    "\n",
    "train_loader, test_loader = DataLoader(train_data, batch_size, shuffle = True, drop_last = True), DataLoader(test_data, batch_size, shuffle = True, drop_last = True)\n"
   ]
  },
  {
   "cell_type": "markdown",
   "id": "f37b842b",
   "metadata": {},
   "source": [
    "### A S S E M B L Y"
   ]
  },
  {
   "cell_type": "code",
   "execution_count": 6,
   "id": "c1c34658",
   "metadata": {},
   "outputs": [],
   "source": [
    "# neurons\n",
    "\n",
    "head_1 = 128\n",
    "head_2 = 256\n",
    "head_3 = 256\n",
    "head_4 = 128\n",
    "\n",
    "# feature\n",
    "\n",
    "hidden_size = 128\n",
    "hidden_size_2 = 256\n"
   ]
  },
  {
   "cell_type": "markdown",
   "id": "9caeab33",
   "metadata": {},
   "source": [
    "### F E A T U R E "
   ]
  },
  {
   "cell_type": "code",
   "execution_count": 7,
   "id": "9ad22f19",
   "metadata": {},
   "outputs": [],
   "source": [
    "class Feature_Extractor(nn.Module):\n",
    "    \n",
    "    def __init__(self, input_dim, output_dim, hidden_size = hidden_size, hidden_size_2 = hidden_size_2):\n",
    "        super(Feature_Extractor, self).__init__()\n",
    "        \n",
    "        self.cal = nn.Sequential(\n",
    "            \n",
    "            nn.Linear(input_dim, hidden_size),\n",
    "            nn.SiLU(),\n",
    "            \n",
    "            nn.Linear(hidden_size, hidden_size),\n",
    "            nn.SiLU(),\n",
    "            \n",
    "            nn.LayerNorm(hidden_size),\n",
    "            nn.Linear(hidden_size, hidden_size_2),\n",
    "            nn.SiLU(),\n",
    "            \n",
    "            nn.Linear(hidden_size_2, hidden_size_2),\n",
    "            nn.SiLU(),\n",
    "            \n",
    "            nn.LayerNorm(hidden_size_2),\n",
    "            nn.Linear(hidden_size_2, hidden_size),\n",
    "            nn.SiLU(),\n",
    "            \n",
    "            nn.Linear(hidden_size, output_dim),\n",
    "            nn.SiLU()\n",
    "        )\n",
    "        \n",
    "    def forward(self, x):\n",
    "    \n",
    "        return self.cal(x)\n"
   ]
  },
  {
   "cell_type": "markdown",
   "id": "22d6d377",
   "metadata": {},
   "source": [
    "### P O L I C Y"
   ]
  },
  {
   "cell_type": "code",
   "execution_count": 8,
   "id": "6f54af67",
   "metadata": {},
   "outputs": [],
   "source": [
    "class policy_net(nn.Module):\n",
    "    \n",
    "    def __init__(self, state_dim = state_dim, action_dim = action_dim, max_action = max_action, head_1 = head_1, head_2 = head_2, head_3 = head_3, head_4 = head_4):\n",
    "        super(policy_net, self).__init__()\n",
    "        \n",
    "        # feature\n",
    "        \n",
    "        self.feature = Feature_Extractor(state_dim, head_1)\n",
    "        \n",
    "        # norm\n",
    "        \n",
    "        self.norm = nn.LayerNorm(head_1)\n",
    "        \n",
    "        # pos feature\n",
    "        \n",
    "        self.pos_feature = nn.Sequential(\n",
    "            \n",
    "            nn.Linear(head_1, head_2),\n",
    "            nn.SiLU(),\n",
    "            \n",
    "            nn.LayerNorm(head_2),\n",
    "            nn.Linear(head_2, head_3),\n",
    "            nn.SiLU(),\n",
    "            \n",
    "            nn.LayerNorm(head_3),\n",
    "            nn.Linear(head_3, head_4),\n",
    "            nn.SiLU()\n",
    "        )\n",
    "        \n",
    "        # mu and log std\n",
    "        \n",
    "        self.mu = nn.Linear(head_4, action_dim)\n",
    "        \n",
    "        # max action\n",
    "        \n",
    "        self.max_action = max_action\n",
    "        \n",
    "    def forward(self, state):\n",
    "        \n",
    "        # feature\n",
    "        \n",
    "        feature = self.feature(state)\n",
    "        \n",
    "        # norm\n",
    "        \n",
    "        norm = self.norm(feature)\n",
    "        \n",
    "        # pos feature\n",
    "        \n",
    "        pos = self.pos_feature(norm)\n",
    "        \n",
    "        # mu and log std head\n",
    "        \n",
    "        mu = self.mu(pos)\n",
    "        tanh_mu = torch.tanh(mu)\n",
    "        action = tanh_mu * self.max_action\n",
    "        \n",
    "        return action\n"
   ]
  },
  {
   "cell_type": "markdown",
   "id": "9e7853e1",
   "metadata": {},
   "source": [
    "### Q - N E T W O R K "
   ]
  },
  {
   "cell_type": "code",
   "execution_count": 9,
   "id": "22779f88",
   "metadata": {},
   "outputs": [],
   "source": [
    "class q_net(nn.Module):\n",
    "    \n",
    "    def __init__(self, state_dim = state_dim, action_dim = action_dim, head_1 = head_1, head_2 = head_2, head_3 = head_3, head_4 = head_4):\n",
    "        super(q_net, self).__init__()\n",
    "        \n",
    "        # q _ 1\n",
    "        \n",
    "        self.critic_1 = nn.Sequential(\n",
    "            \n",
    "            nn.Linear(state_dim + action_dim, head_1),\n",
    "            nn.SiLU(),\n",
    "            \n",
    "            nn.Linear(head_1, head_2),\n",
    "            nn.SiLU(),\n",
    "            \n",
    "            nn.LayerNorm(head_2),\n",
    "            nn.Linear(head_2, head_3),\n",
    "            nn.SiLU(),\n",
    "            \n",
    "            \n",
    "            nn.LayerNorm(head_3),\n",
    "            nn.Linear(head_3, head_4),\n",
    "            nn.SiLU(),\n",
    "            \n",
    "            nn.Linear(head_4, 1)\n",
    "        )\n",
    "        \n",
    "        # q _ 2 \n",
    "    \n",
    "        self.critic_2 = nn.Sequential(\n",
    "            \n",
    "            nn.Linear(state_dim + action_dim, head_1),\n",
    "            nn.SiLU(),\n",
    "            \n",
    "            nn.Linear(head_1, head_2),\n",
    "            nn.SiLU(),\n",
    "            \n",
    "            \n",
    "            nn.LayerNorm(head_2),\n",
    "            nn.Linear(head_2, head_3),\n",
    "            nn.SiLU(),\n",
    "            \n",
    "            \n",
    "            nn.LayerNorm(head_3),\n",
    "            nn.Linear(head_3, head_4),\n",
    "            nn.SiLU(),\n",
    "            \n",
    "            nn.Linear(head_4, 1)\n",
    "        )\n",
    "\n",
    "        \n",
    "    def forward(self, state, action):\n",
    "        \n",
    "        # cat\n",
    "        \n",
    "        cat = torch.cat([state, action], dim = -1)\n",
    "        \n",
    "        # q vals\n",
    "        \n",
    "        q_1 = self.critic_1(cat)\n",
    "        q_2 = self.critic_2(cat)\n",
    "        \n",
    "        return q_1, q_2\n"
   ]
  },
  {
   "cell_type": "markdown",
   "id": "1633f57b",
   "metadata": {},
   "source": [
    "### S E T U P "
   ]
  },
  {
   "cell_type": "code",
   "execution_count": 10,
   "id": "ee70ba6f",
   "metadata": {},
   "outputs": [
    {
     "name": "stdout",
     "output_type": "stream",
     "text": [
      "----------------------------------------------------------------------------------------------------\n",
      "policy_net(\n",
      "  (feature): Feature_Extractor(\n",
      "    (cal): Sequential(\n",
      "      (0): Linear(in_features=11, out_features=128, bias=True)\n",
      "      (1): SiLU()\n",
      "      (2): Linear(in_features=128, out_features=128, bias=True)\n",
      "      (3): SiLU()\n",
      "      (4): LayerNorm((128,), eps=1e-05, elementwise_affine=True)\n",
      "      (5): Linear(in_features=128, out_features=256, bias=True)\n",
      "      (6): SiLU()\n",
      "      (7): Linear(in_features=256, out_features=256, bias=True)\n",
      "      (8): SiLU()\n",
      "      (9): LayerNorm((256,), eps=1e-05, elementwise_affine=True)\n",
      "      (10): Linear(in_features=256, out_features=128, bias=True)\n",
      "      (11): SiLU()\n",
      "      (12): Linear(in_features=128, out_features=128, bias=True)\n",
      "      (13): SiLU()\n",
      "    )\n",
      "  )\n",
      "  (norm): LayerNorm((128,), eps=1e-05, elementwise_affine=True)\n",
      "  (pos_feature): Sequential(\n",
      "    (0): Linear(in_features=128, out_features=256, bias=True)\n",
      "    (1): SiLU()\n",
      "    (2): LayerNorm((256,), eps=1e-05, elementwise_affine=True)\n",
      "    (3): Linear(in_features=256, out_features=256, bias=True)\n",
      "    (4): SiLU()\n",
      "    (5): LayerNorm((256,), eps=1e-05, elementwise_affine=True)\n",
      "    (6): Linear(in_features=256, out_features=128, bias=True)\n",
      "    (7): SiLU()\n",
      "  )\n",
      "  (mu): Linear(in_features=128, out_features=3, bias=True)\n",
      ")\n",
      "----------------------------------------------------------------------------------------------------\n",
      "q_net(\n",
      "  (critic_1): Sequential(\n",
      "    (0): Linear(in_features=14, out_features=128, bias=True)\n",
      "    (1): SiLU()\n",
      "    (2): Linear(in_features=128, out_features=256, bias=True)\n",
      "    (3): SiLU()\n",
      "    (4): LayerNorm((256,), eps=1e-05, elementwise_affine=True)\n",
      "    (5): Linear(in_features=256, out_features=256, bias=True)\n",
      "    (6): SiLU()\n",
      "    (7): LayerNorm((256,), eps=1e-05, elementwise_affine=True)\n",
      "    (8): Linear(in_features=256, out_features=128, bias=True)\n",
      "    (9): SiLU()\n",
      "    (10): Linear(in_features=128, out_features=1, bias=True)\n",
      "  )\n",
      "  (critic_2): Sequential(\n",
      "    (0): Linear(in_features=14, out_features=128, bias=True)\n",
      "    (1): SiLU()\n",
      "    (2): Linear(in_features=128, out_features=256, bias=True)\n",
      "    (3): SiLU()\n",
      "    (4): LayerNorm((256,), eps=1e-05, elementwise_affine=True)\n",
      "    (5): Linear(in_features=256, out_features=256, bias=True)\n",
      "    (6): SiLU()\n",
      "    (7): LayerNorm((256,), eps=1e-05, elementwise_affine=True)\n",
      "    (8): Linear(in_features=256, out_features=128, bias=True)\n",
      "    (9): SiLU()\n",
      "    (10): Linear(in_features=128, out_features=1, bias=True)\n",
      "  )\n",
      ")\n"
     ]
    }
   ],
   "source": [
    "# Policy\n",
    "\n",
    "POLICY_NETWORK = policy_net().to(device)\n",
    "\n",
    "TARGET_POLICY = copy.deepcopy(POLICY_NETWORK).to(device)\n",
    "\n",
    "# Q NETWORK\n",
    "\n",
    "CRITIC_NETWORK = q_net().to(device)\n",
    "\n",
    "TARGET_CRITIC = copy.deepcopy(CRITIC_NETWORK).to(device)\n",
    "\n",
    "print('-' * 100)\n",
    "print(POLICY_NETWORK)\n",
    "\n",
    "print('-' * 100)\n",
    "print(CRITIC_NETWORK)\n"
   ]
  },
  {
   "cell_type": "markdown",
   "id": "be97ef48",
   "metadata": {},
   "source": [
    "### OPTIMIZER AND SCHEDULER"
   ]
  },
  {
   "cell_type": "code",
   "execution_count": 11,
   "id": "533ad249",
   "metadata": {},
   "outputs": [],
   "source": [
    "# params\n",
    "\n",
    "actor_lr = 3e-4\n",
    "critic_lr = 5e-4\n",
    "\n",
    "T_max = 30\n",
    "\n",
    "# --------------------------------------------------------- ACT OPT -------------------------------------------------------\n",
    "\n",
    "POLICY_OPTIMIZER = optim.AdamW(POLICY_NETWORK.parameters(), actor_lr, weight_decay = 0)\n",
    "\n",
    "# --------------------------------------------------------- ACT SCH -------------------------------------------------------\n",
    "\n",
    "POLICY_SCHEDULER = optim.lr_scheduler.CosineAnnealingLR(POLICY_OPTIMIZER, T_max, eta_min = 1e-6)\n",
    "\n",
    "# --------------------------------------------------------- Q OPT -------------------------------------------------------\n",
    "\n",
    "CRITIC_OPTIMIZER = optim.AdamW(CRITIC_NETWORK.parameters(), critic_lr, weight_decay = 0)\n",
    "\n",
    "# --------------------------------------------------------- Q SCH -------------------------------------------------------\n",
    "\n",
    "CRITIC_SCHEDULER  = optim.lr_scheduler.CosineAnnealingLR(CRITIC_OPTIMIZER, T_max, eta_min = 1e-6)\n",
    "\n"
   ]
  },
  {
   "cell_type": "markdown",
   "id": "3e43ec1e",
   "metadata": {},
   "source": [
    "### L O S S - F U N C "
   ]
  },
  {
   "cell_type": "code",
   "execution_count": 12,
   "id": "bb9ee27b",
   "metadata": {},
   "outputs": [],
   "source": [
    "class loss_func:\n",
    "    \n",
    "    def __init__(self, tau, gamma, max_action = max_action, POLICY_NETWORK = POLICY_NETWORK, POLICY_OPTIMIZER = POLICY_OPTIMIZER, POLICY_SCHEDULER = POLICY_SCHEDULER, CRITIC_NETWORK = CRITIC_NETWORK, CRITIC_OPTIMIZER = CRITIC_OPTIMIZER, CRITIC_SCHEDULER = CRITIC_SCHEDULER, TARGET_CRITIC = TARGET_CRITIC, TARGET_POLICY = TARGET_POLICY):\n",
    "    \n",
    "        # network\n",
    "        \n",
    "        self.policy = POLICY_NETWORK\n",
    "        self.critic = CRITIC_NETWORK\n",
    "        self.target_policy = TARGET_POLICY\n",
    "        self.target_critic = TARGET_CRITIC\n",
    "        \n",
    "        # hyper param\n",
    "        \n",
    "        self.tau = tau\n",
    "        self.gamma = gamma\n",
    "        self.pause = 2\n",
    "        self.max_action = max_action\n",
    "        self.policy_noise = 0.2\n",
    "        self.noise_clip = 0.3\n",
    "        \n",
    "        # optimizer\n",
    "        \n",
    "        self.policy_optimizer = POLICY_OPTIMIZER\n",
    "        self.critic_optimizer = CRITIC_OPTIMIZER\n",
    "        \n",
    "        # scheduler\n",
    "        \n",
    "        self.policy_scheduler = POLICY_SCHEDULER\n",
    "        self.critic_scheduler = CRITIC_SCHEDULER\n",
    "        \n",
    "    def cal_alpha(self, td3_loss, bc_loss):\n",
    "        \n",
    "        with torch.no_grad():\n",
    "            \n",
    "            td3_val = abs(td3_loss.item())\n",
    "            bc_val = abs(bc_loss.item()) + 1e-5\n",
    "            ratio = td3_val / bc_val\n",
    "            alpha = max(0.1, min(1.0, ratio))\n",
    "            \n",
    "        return alpha\n",
    "        \n",
    "\n",
    "    def soft_update(self, source, target):\n",
    "        \n",
    "        with torch.no_grad():\n",
    "        \n",
    "            for param, target_param in zip(source.parameters(), target.parameters()):\n",
    "                \n",
    "                target_param.data.copy_(param.data * self.tau + target_param.data * ( 1 - self.tau))\n",
    "                \n",
    "    def critic_loss(self, states, actions, rewards, dones, next_states):\n",
    "        \n",
    "        with torch.no_grad():\n",
    "            \n",
    "            noise = (torch.randn_like(actions) * self.policy_noise).clamp(-self.noise_clip, self.noise_clip)\n",
    "            next_action = (self.target_policy(next_states) + noise).clamp(-max_action, max_action)   \n",
    "            target_1, target_2 = self.target_critic(next_states, next_action)\n",
    "            target = torch.min(target_1, target_2)\n",
    "            target_val = rewards + self.gamma * (1 - dones) * target\n",
    "        \n",
    "        q_1, q_2 = self.critic(states, actions)\n",
    "        \n",
    "        loss_1 = F.mse_loss(q_1, target_val)\n",
    "        loss_2 = F.mse_loss(q_2, target_val)\n",
    "        \n",
    "        critic_loss = loss_1 + loss_2\n",
    "        \n",
    "        return critic_loss\n",
    "    \n",
    "    def policy_loss(self, states_policy, actions_policy):\n",
    "        \n",
    "        current_action = self.policy(states_policy)\n",
    "        \n",
    "        q_1, _ = self.critic(states_policy, current_action)\n",
    "        \n",
    "        td3_loss = - q_1.mean()\n",
    "        \n",
    "        # batch clone loss\n",
    "        \n",
    "        bc_loss = F.mse_loss(current_action, actions_policy)\n",
    "        \n",
    "        alpha = self.cal_alpha(td3_loss, bc_loss)\n",
    "        \n",
    "        policy_loss = td3_loss + alpha * bc_loss\n",
    "        \n",
    "        return policy_loss\n",
    "    \n",
    "    def update(self, Data):\n",
    "        \n",
    "        total_critic_loss = 0.0\n",
    "        total_policy_loss = 0.0\n",
    "        batch_count = 0\n",
    "           \n",
    "        for states, actions, rewards, dones, next_states in Data:\n",
    "            \n",
    "            if rewards.dim() == 1: rewards = rewards.unsqueeze(1)\n",
    "            if dones.dim() == 1: dones = dones.unsqueeze(1)\n",
    "               \n",
    "            # ------------------------------------------------ update critic -----------------------------------------------------\n",
    "            \n",
    "                \n",
    "            critic_loss = self.critic_loss(states, actions, rewards, dones, next_states)\n",
    "            \n",
    "            self.critic_optimizer.zero_grad()\n",
    "            critic_loss.backward()\n",
    "            torch.nn.utils.clip_grad_norm_(self.critic.parameters(), max_norm = 0.5)\n",
    "            self.critic_optimizer.step()\n",
    "            self.critic_scheduler.step()\n",
    "            \n",
    "            total_critic_loss += critic_loss.item()\n",
    "            \n",
    "            # ----------------------------------------------- update actor --------------------------------------------------------\n",
    "            \n",
    "            if batch_count % self.pause == 0:\n",
    "                \n",
    "                policy_loss = self.policy_loss(states, actions)\n",
    "                \n",
    "                self.policy_optimizer.zero_grad()\n",
    "                policy_loss.backward()\n",
    "                torch.nn.utils.clip_grad_norm_(self.policy.parameters(), max_norm = 0.5)\n",
    "                self.policy_optimizer.step()\n",
    "                self.policy_scheduler.step()\n",
    "                \n",
    "                total_policy_loss += policy_loss.item()\n",
    "                \n",
    "                self.soft_update(self.critic, self.target_critic)\n",
    "                self.soft_update(self.policy, self.target_policy)\n",
    "                \n",
    "                \n",
    "            batch_count += 1\n",
    "                \n",
    "        avg_policy_loss = total_policy_loss / max(1, (batch_count // self.pause))\n",
    "        avg_critic_loss = total_critic_loss / batch_count\n",
    "            \n",
    "        return avg_critic_loss, avg_policy_loss\n",
    "    "
   ]
  },
  {
   "cell_type": "markdown",
   "id": "aa4bae49",
   "metadata": {},
   "source": [
    "### S E T U P"
   ]
  },
  {
   "cell_type": "code",
   "execution_count": 13,
   "id": "83dd2a0d",
   "metadata": {},
   "outputs": [],
   "source": [
    "# hyper param\n",
    "\n",
    "tau = 0.005\n",
    "gamma = 0.97\n",
    "\n",
    "# setup\n",
    "\n",
    "LOSS_FUNCTION = loss_func(tau, gamma)\n"
   ]
  },
  {
   "cell_type": "markdown",
   "id": "7f2ff3fb",
   "metadata": {},
   "source": [
    "### T R A I N I N G"
   ]
  },
  {
   "cell_type": "code",
   "execution_count": 14,
   "id": "8ece5bf1",
   "metadata": {},
   "outputs": [
    {
     "name": "stderr",
     "output_type": "stream",
     "text": [
      "TD3 + BC Training:   3%|▎         | 1/31 [00:56<28:22, 56.73s/it]"
     ]
    },
    {
     "name": "stdout",
     "output_type": "stream",
     "text": [
      "epoch: 0 | critic_avg loss: 0.53211 | policy avg loss: -14.08269\n"
     ]
    },
    {
     "name": "stderr",
     "output_type": "stream",
     "text": [
      "TD3 + BC Training:   6%|▋         | 2/31 [01:44<25:00, 51.75s/it]"
     ]
    },
    {
     "name": "stdout",
     "output_type": "stream",
     "text": [
      "epoch: 1 | critic_avg loss: 1.30690 | policy avg loss: -34.03754\n"
     ]
    },
    {
     "name": "stderr",
     "output_type": "stream",
     "text": [
      "TD3 + BC Training:  10%|▉         | 3/31 [02:29<22:39, 48.54s/it]"
     ]
    },
    {
     "name": "stdout",
     "output_type": "stream",
     "text": [
      "epoch: 2 | critic_avg loss: 1.70407 | policy avg loss: -52.75505\n"
     ]
    },
    {
     "name": "stderr",
     "output_type": "stream",
     "text": [
      "TD3 + BC Training:  13%|█▎        | 4/31 [03:16<21:28, 47.73s/it]"
     ]
    },
    {
     "name": "stdout",
     "output_type": "stream",
     "text": [
      "epoch: 3 | critic_avg loss: 1.79092 | policy avg loss: -68.52139\n"
     ]
    },
    {
     "name": "stderr",
     "output_type": "stream",
     "text": [
      "TD3 + BC Training:  16%|█▌        | 5/31 [04:02<20:24, 47.10s/it]"
     ]
    },
    {
     "name": "stdout",
     "output_type": "stream",
     "text": [
      "epoch: 4 | critic_avg loss: 1.59456 | policy avg loss: -81.51430\n"
     ]
    },
    {
     "name": "stderr",
     "output_type": "stream",
     "text": [
      "TD3 + BC Training:  19%|█▉        | 6/31 [04:49<19:37, 47.10s/it]"
     ]
    },
    {
     "name": "stdout",
     "output_type": "stream",
     "text": [
      "epoch: 5 | critic_avg loss: 1.62176 | policy avg loss: -92.09448\n"
     ]
    },
    {
     "name": "stderr",
     "output_type": "stream",
     "text": [
      "TD3 + BC Training:  23%|██▎       | 7/31 [05:39<19:16, 48.19s/it]"
     ]
    },
    {
     "name": "stdout",
     "output_type": "stream",
     "text": [
      "epoch: 6 | critic_avg loss: 1.56214 | policy avg loss: -100.60087\n"
     ]
    },
    {
     "name": "stderr",
     "output_type": "stream",
     "text": [
      "TD3 + BC Training:  26%|██▌       | 8/31 [06:27<18:23, 47.99s/it]"
     ]
    },
    {
     "name": "stdout",
     "output_type": "stream",
     "text": [
      "epoch: 7 | critic_avg loss: 1.48410 | policy avg loss: -106.73183\n"
     ]
    },
    {
     "name": "stderr",
     "output_type": "stream",
     "text": [
      "TD3 + BC Training:  29%|██▉       | 9/31 [07:15<17:40, 48.20s/it]"
     ]
    },
    {
     "name": "stdout",
     "output_type": "stream",
     "text": [
      "epoch: 8 | critic_avg loss: 1.34317 | policy avg loss: -111.04467\n"
     ]
    },
    {
     "name": "stderr",
     "output_type": "stream",
     "text": [
      "TD3 + BC Training:  32%|███▏      | 10/31 [08:02<16:44, 47.83s/it]"
     ]
    },
    {
     "name": "stdout",
     "output_type": "stream",
     "text": [
      "epoch: 9 | critic_avg loss: 1.29383 | policy avg loss: -114.55603\n"
     ]
    },
    {
     "name": "stderr",
     "output_type": "stream",
     "text": [
      "TD3 + BC Training:  35%|███▌      | 11/31 [08:47<15:35, 46.80s/it]"
     ]
    },
    {
     "name": "stdout",
     "output_type": "stream",
     "text": [
      "epoch: 10 | critic_avg loss: 1.89048 | policy avg loss: -118.51601\n"
     ]
    },
    {
     "name": "stderr",
     "output_type": "stream",
     "text": [
      "TD3 + BC Training:  39%|███▊      | 12/31 [09:31<14:36, 46.11s/it]"
     ]
    },
    {
     "name": "stdout",
     "output_type": "stream",
     "text": [
      "epoch: 11 | critic_avg loss: 1.59968 | policy avg loss: -120.92305\n"
     ]
    },
    {
     "name": "stderr",
     "output_type": "stream",
     "text": [
      "TD3 + BC Training:  42%|████▏     | 13/31 [10:16<13:40, 45.57s/it]"
     ]
    },
    {
     "name": "stdout",
     "output_type": "stream",
     "text": [
      "epoch: 12 | critic_avg loss: 1.36415 | policy avg loss: -121.92991\n"
     ]
    },
    {
     "name": "stderr",
     "output_type": "stream",
     "text": [
      "TD3 + BC Training:  45%|████▌     | 14/31 [10:59<12:44, 44.99s/it]"
     ]
    },
    {
     "name": "stdout",
     "output_type": "stream",
     "text": [
      "epoch: 13 | critic_avg loss: 1.41850 | policy avg loss: -121.59042\n"
     ]
    },
    {
     "name": "stderr",
     "output_type": "stream",
     "text": [
      "TD3 + BC Training:  48%|████▊     | 15/31 [11:43<11:55, 44.69s/it]"
     ]
    },
    {
     "name": "stdout",
     "output_type": "stream",
     "text": [
      "epoch: 14 | critic_avg loss: 1.51409 | policy avg loss: -120.42976\n"
     ]
    },
    {
     "name": "stderr",
     "output_type": "stream",
     "text": [
      "TD3 + BC Training:  52%|█████▏    | 16/31 [12:29<11:12, 44.83s/it]"
     ]
    },
    {
     "name": "stdout",
     "output_type": "stream",
     "text": [
      "epoch: 15 | critic_avg loss: 1.45325 | policy avg loss: -119.99425\n"
     ]
    },
    {
     "name": "stderr",
     "output_type": "stream",
     "text": [
      "TD3 + BC Training:  55%|█████▍    | 17/31 [13:14<10:28, 44.91s/it]"
     ]
    },
    {
     "name": "stdout",
     "output_type": "stream",
     "text": [
      "epoch: 16 | critic_avg loss: 1.51138 | policy avg loss: -120.44586\n"
     ]
    },
    {
     "name": "stderr",
     "output_type": "stream",
     "text": [
      "TD3 + BC Training:  58%|█████▊    | 18/31 [14:00<09:48, 45.28s/it]"
     ]
    },
    {
     "name": "stdout",
     "output_type": "stream",
     "text": [
      "epoch: 17 | critic_avg loss: 1.40765 | policy avg loss: -120.86539\n"
     ]
    },
    {
     "name": "stderr",
     "output_type": "stream",
     "text": [
      "TD3 + BC Training:  61%|██████▏   | 19/31 [14:45<09:02, 45.24s/it]"
     ]
    },
    {
     "name": "stdout",
     "output_type": "stream",
     "text": [
      "epoch: 18 | critic_avg loss: 1.36432 | policy avg loss: -120.95783\n"
     ]
    },
    {
     "name": "stderr",
     "output_type": "stream",
     "text": [
      "TD3 + BC Training:  65%|██████▍   | 20/31 [15:30<08:18, 45.30s/it]"
     ]
    },
    {
     "name": "stdout",
     "output_type": "stream",
     "text": [
      "epoch: 19 | critic_avg loss: 1.27034 | policy avg loss: -121.14126\n"
     ]
    },
    {
     "name": "stderr",
     "output_type": "stream",
     "text": [
      "TD3 + BC Training:  68%|██████▊   | 21/31 [16:15<07:30, 45.01s/it]"
     ]
    },
    {
     "name": "stdout",
     "output_type": "stream",
     "text": [
      "epoch: 20 | critic_avg loss: 1.30661 | policy avg loss: -121.17689\n"
     ]
    },
    {
     "name": "stderr",
     "output_type": "stream",
     "text": [
      "TD3 + BC Training:  71%|███████   | 22/31 [16:59<06:43, 44.80s/it]"
     ]
    },
    {
     "name": "stdout",
     "output_type": "stream",
     "text": [
      "epoch: 21 | critic_avg loss: 1.34609 | policy avg loss: -121.29139\n"
     ]
    },
    {
     "name": "stderr",
     "output_type": "stream",
     "text": [
      "TD3 + BC Training:  74%|███████▍  | 23/31 [17:44<05:58, 44.79s/it]"
     ]
    },
    {
     "name": "stdout",
     "output_type": "stream",
     "text": [
      "epoch: 22 | critic_avg loss: 1.16328 | policy avg loss: -121.74242\n"
     ]
    },
    {
     "name": "stderr",
     "output_type": "stream",
     "text": [
      "TD3 + BC Training:  77%|███████▋  | 24/31 [18:29<05:13, 44.85s/it]"
     ]
    },
    {
     "name": "stdout",
     "output_type": "stream",
     "text": [
      "epoch: 23 | critic_avg loss: 1.08667 | policy avg loss: -121.98084\n"
     ]
    },
    {
     "name": "stderr",
     "output_type": "stream",
     "text": [
      "TD3 + BC Training:  81%|████████  | 25/31 [19:14<04:29, 44.87s/it]"
     ]
    },
    {
     "name": "stdout",
     "output_type": "stream",
     "text": [
      "epoch: 24 | critic_avg loss: 1.07153 | policy avg loss: -122.23860\n"
     ]
    },
    {
     "name": "stderr",
     "output_type": "stream",
     "text": [
      "TD3 + BC Training:  84%|████████▍ | 26/31 [19:57<03:42, 44.49s/it]"
     ]
    },
    {
     "name": "stdout",
     "output_type": "stream",
     "text": [
      "epoch: 25 | critic_avg loss: 1.03914 | policy avg loss: -122.56714\n"
     ]
    },
    {
     "name": "stderr",
     "output_type": "stream",
     "text": [
      "TD3 + BC Training:  87%|████████▋ | 27/31 [20:41<02:57, 44.37s/it]"
     ]
    },
    {
     "name": "stdout",
     "output_type": "stream",
     "text": [
      "epoch: 26 | critic_avg loss: 0.97479 | policy avg loss: -123.04698\n"
     ]
    },
    {
     "name": "stderr",
     "output_type": "stream",
     "text": [
      "TD3 + BC Training:  90%|█████████ | 28/31 [21:26<02:13, 44.37s/it]"
     ]
    },
    {
     "name": "stdout",
     "output_type": "stream",
     "text": [
      "epoch: 27 | critic_avg loss: 0.91236 | policy avg loss: -123.16156\n"
     ]
    },
    {
     "name": "stderr",
     "output_type": "stream",
     "text": [
      "TD3 + BC Training:  94%|█████████▎| 29/31 [22:10<01:28, 44.42s/it]"
     ]
    },
    {
     "name": "stdout",
     "output_type": "stream",
     "text": [
      "epoch: 28 | critic_avg loss: 0.91342 | policy avg loss: -123.05543\n"
     ]
    },
    {
     "name": "stderr",
     "output_type": "stream",
     "text": [
      "TD3 + BC Training:  97%|█████████▋| 30/31 [22:54<00:44, 44.27s/it]"
     ]
    },
    {
     "name": "stdout",
     "output_type": "stream",
     "text": [
      "epoch: 29 | critic_avg loss: 0.90934 | policy avg loss: -122.28412\n"
     ]
    },
    {
     "name": "stderr",
     "output_type": "stream",
     "text": [
      "TD3 + BC Training: 100%|██████████| 31/31 [23:40<00:00, 45.81s/it]"
     ]
    },
    {
     "name": "stdout",
     "output_type": "stream",
     "text": [
      "epoch: 30 | critic_avg loss: 0.81553 | policy avg loss: -121.21139\n"
     ]
    },
    {
     "name": "stderr",
     "output_type": "stream",
     "text": [
      "\n"
     ]
    }
   ],
   "source": [
    "epochs = 30\n",
    "\n",
    "for epoch in tqdm(range(epochs + 1 ), desc = \"TD3 + BC Training\"):\n",
    "    \n",
    "    critic_avg_loss, policy_avg_loss = LOSS_FUNCTION.update(train_loader)\n",
    "    \n",
    "    critic_val = float(critic_avg_loss)\n",
    "    policy_val = float(policy_avg_loss)\n",
    "    \n",
    "    writer.add_scalar(\"Loss/Critic\", critic_avg_loss, epoch)\n",
    "    writer.add_scalar(\"Loss/Policy\", policy_avg_loss, epoch)\n",
    "    writer.flush()\n",
    "    \n",
    "    tqdm.write(f'epoch: {epoch} | critic_avg loss: {critic_avg_loss:.5f} | policy avg loss: {policy_avg_loss:.5f}')\n",
    "    \n",
    "    "
   ]
  },
  {
   "cell_type": "markdown",
   "id": "db86fa94",
   "metadata": {},
   "source": [
    "### S A V E "
   ]
  },
  {
   "cell_type": "code",
   "execution_count": null,
   "id": "8db4f4cf",
   "metadata": {},
   "outputs": [],
   "source": [
    "torch.save(POLICY_NETWORK.state_dict(), 'td3_bc_policy.pth')\n",
    "torch.save(CRITIC_NETWORK.state_dict(), 'td3_bc_critic.pth')\n"
   ]
  },
  {
   "cell_type": "markdown",
   "id": "bdc46a7f",
   "metadata": {},
   "source": [
    "### P L O T S "
   ]
  },
  {
   "cell_type": "code",
   "execution_count": null,
   "id": "a23058bb",
   "metadata": {},
   "outputs": [
    {
     "data": {
      "image/png": "[encoded data removed]",
      "text/plain": [
       "<Figure size 640x480 with 1 Axes>"
      ]
     },
     "metadata": {},
     "output_type": "display_data"
    }
   ],
   "source": [
    "from tensorboard.backend.event_processing import event_accumulator\n",
    "\n",
    "ea = event_accumulator.EventAccumulator('./runs/TD3_BC')  \n",
    "ea.Reload()\n",
    "\n",
    "policy = ea.Scalars('Loss/Policy')\n",
    "critic = ea.Scalars('Loss/Critic')\n",
    "\n",
    "policy_losses = [x.value for x in policy]\n",
    "critic_losses = [x.value for x in critic]\n",
    "\n",
    "# Now you can plot\n",
    "plt.title('TD3 + BC Training Loss (Policy)')\n",
    "plt.plot(policy_losses, label='Policy Loss')\n",
    "plt.xlabel('Epochs')\n",
    "plt.ylabel('Loss')\n",
    "plt.legend()\n",
    "plt.show()\n"
   ]
  },
  {
   "cell_type": "code",
   "execution_count": null,
   "id": "76eb7df3",
   "metadata": {},
   "outputs": [
    {
     "data": {
      "image/png": "[encoded data removed]",
      "text/plain": [
       "<Figure size 640x480 with 1 Axes>"
      ]
     },
     "metadata": {},
     "output_type": "display_data"
    }
   ],
   "source": [
    "plt.title(\"TD3 + BC Training Loss (Critic)\")\n",
    "plt.plot(critic_losses, label='Critic Loss')\n",
    "plt.xlabel('Epochs')\n",
    "plt.ylabel('Loss')\n",
    "plt.legend()\n",
    "plt.show()\n"
   ]
  }
 ],
 "metadata": {
  "kernelspec": {
   "display_name": "Python 3",
   "language": "python",
   "name": "python3"
  },
  "language_info": {
   "codemirror_mode": {
    "name": "ipython",
    "version": 3
   },
   "file_extension": ".py",
   "mimetype": "text/x-python",
   "name": "python",
   "nbconvert_exporter": "python",
   "pygments_lexer": "ipython3",
   "version": "3.11.5"
  }
 },
 "nbformat": 4,
 "nbformat_minor": 5
}
